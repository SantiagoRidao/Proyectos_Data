{
  "cells": [
    {
      "cell_type": "markdown",
      "metadata": {
        "id": "view-in-github",
        "colab_type": "text"
      },
      "source": [
        "<a href=\"https://colab.research.google.com/github/SantiagoRidao/Proyectos_Data/blob/main/Perceptron_simple%20tarea%20del%20curso.ipynb\" target=\"_parent\"><img src=\"https://colab.research.google.com/assets/colab-badge.svg\" alt=\"Open In Colab\"/></a>"
      ]
    },
    {
      "cell_type": "markdown",
      "metadata": {
        "id": "C469SMzEbsmp"
      },
      "source": [
        "## Práctico Número 2: Implementando una red neuronal"
      ]
    },
    {
      "cell_type": "markdown",
      "source": [
        "Santiago Ridao\n",
        "DNI: 3125326"
      ],
      "metadata": {
        "id": "lnL2JEWAuWkw"
      }
    },
    {
      "cell_type": "markdown",
      "metadata": {
        "id": "_4mw9LhXbsm4"
      },
      "source": [
        "### Tarea del dia\n",
        "Hoy vamos a implementar entre todos, la red neuronal mas simple: la de una sola neurona. Tenemos las herramientas para hacerlo automaticamente con tensorflow, pero eso no seria divertido. El unico ayudante que tendremos es numpy.\n",
        "Como vamos a implementar numpy, lo primero es ... importar numpy!! A esta altura deberia ser un acto reflejo ..."
      ]
    },
    {
      "cell_type": "code",
      "execution_count": null,
      "metadata": {
        "id": "1VwgbrKZbsm5"
      },
      "outputs": [],
      "source": [
        "\n",
        "# Sientete libre de importar esta libreria como mas te guste. Aqui te dejo unas opciones:\n",
        "import numpy as np\n",
        "# import numpy\n",
        "# import numpy as npy\n",
        "# import numpy as libreria_de_vectores\n",
        "# Descomenta la que mas te guste o haz una nueva linea."
      ]
    },
    {
      "cell_type": "markdown",
      "metadata": {
        "id": "gI2UbKFHbsm6"
      },
      "source": [
        "### Recordando el perceptron\n",
        "Recordemos que es un perceptron. No introduzcamos palabras raras como sumatoria, ni funciones de activacion todavia. El perceptron es un *modelo*, que nos ayuda a *predecir* algo, a partir de *caracteristicas*.\n",
        "Que son estas caracteristicas? Dicho de forma simple, es algo que la maquina puede entender, es decir numeros. Por ejemplo, pueden ser los numeros que describan a una persona: edad, peso, talla, etc.\n",
        "\n",
        "![Perceptron simple](https://drive.google.com/uc?export=view&id=1QJqdjrwZR2iu9mdnsZXsGV6aDpoy9nOF)\n",
        "\n",
        "En este caso, mis caracteristicas son n1 y n2, y eso nos va a ayudar a predecir *algo*.\n",
        "\n",
        "#### Como lo hace?\n",
        "\n",
        "Podemos empezar por un modelo muy muuy muuuy simple.\n",
        "\n",
        "Primero supongamos que lo que queremos predecir es un valor tipo Verdadero o Falso, o un 1 o 0. Es decir, queremos predecir entre dos valores.\n",
        "\n",
        "Sumamos las caracteristicas (que recuerden que no son mas que numeros). Si eso nos da arriba de un valor (llamemosle *umbral*), predecimos un 1 (o Verdadero), sino, predecimos un 0 (o Falso)\n"
      ]
    },
    {
      "cell_type": "markdown",
      "metadata": {
        "id": "pQ5I7mOWbsm8"
      },
      "source": [
        "### Bajemoslo a tierra con un ejemplo\n",
        "\n",
        "Queremos predecir si un alumno va a aprobar una materia o no, a partir de ciertas caracteristicas. Nuestras caracteristicas van a ser: resultado de examen 1, resultado de examen 2. Entre ambas, tienen que ser mayor a 12 para aprobar el curso.\n",
        "\n",
        "\n",
        "\n",
        "![Perceptron complejo](https://drive.google.com/uc?export=view&id=1G83IAw0-tPuuMcBRp49GOnhprI2cvpXY)\n",
        "\n",
        "\n",
        "\n",
        "No se asusten con ese simbolo raro, si no lo conocen, solo nos dice que sumamos el resultado del Examen1 + resultado del Examen 2\n"
      ]
    },
    {
      "cell_type": "markdown",
      "metadata": {
        "id": "hZ9lqJwHbsm8"
      },
      "source": [
        "### Podremos implementar eso con codigo?\n",
        "Primero lo primero, definamos nuestros datos, que van a ser super simples ...\n",
        "Vamos a tener:\n",
        "- alumno 1: saco 2 en el primer examen, y 9 en el segundo\n",
        "- alumnos 2: saco 10 en el primer examen, y 9 en el segundo"
      ]
    },
    {
      "cell_type": "code",
      "execution_count": null,
      "metadata": {
        "id": "ng1B0gsObsm9"
      },
      "outputs": [],
      "source": [
        "alumno_1 = [2,9]\n",
        "alumno_2 = [10, 9]\n"
      ]
    },
    {
      "cell_type": "markdown",
      "metadata": {
        "id": "hmqbPbPrbsm9"
      },
      "source": [
        "Hasta ahora, tanto alumno_1 como alumno_2 son *listas*. Podemos juntar a ambas en un solo objeto\n",
        "\n",
        "Hagamos eso"
      ]
    },
    {
      "cell_type": "code",
      "execution_count": null,
      "metadata": {
        "colab": {
          "base_uri": "https://localhost:8080/"
        },
        "id": "mE0YNOuGbsm-",
        "outputId": "1161d684-c667-4df6-bbe2-05b07a414257"
      },
      "outputs": [
        {
          "output_type": "stream",
          "name": "stdout",
          "text": [
            "[[2, 9], [10, 9]]\n"
          ]
        }
      ],
      "source": [
        "alumnos = [alumno_1, alumno_2]\n",
        "print(alumnos)"
      ]
    },
    {
      "cell_type": "markdown",
      "metadata": {
        "id": "iL4Gr3F1bsm_"
      },
      "source": [
        "La variable alumnos es ahora una *lista*, que a su vez esta compuesta de *listas* (es una lista de listas). Podemos pedirle a numpy que las transforme en una *matriz*. Esto es simplemente mas conveniente para la computadora. Le hagamos facil el trabajo. Esto lo podemos hacer con la *funcion* de numpy: numpy.array.\n",
        "\n",
        "No se olviden que todo esto debe estar guardado en una variable"
      ]
    },
    {
      "cell_type": "code",
      "execution_count": null,
      "metadata": {
        "colab": {
          "base_uri": "https://localhost:8080/"
        },
        "id": "eFeucjIFbsnA",
        "outputId": "abe1f1eb-5551-4f7c-ecce-bc1bce457291"
      },
      "outputs": [
        {
          "output_type": "stream",
          "name": "stdout",
          "text": [
            "[[ 2  9]\n",
            " [10  9]]\n"
          ]
        }
      ],
      "source": [
        "alumnos_v = np.array(alumnos)\n",
        "print(alumnos_v)"
      ]
    },
    {
      "cell_type": "code",
      "execution_count": null,
      "metadata": {
        "colab": {
          "base_uri": "https://localhost:8080/"
        },
        "id": "rl0H-9jNbsnA",
        "outputId": "b3943df2-901b-402a-aa00-a44ba54bc8c0"
      },
      "outputs": [
        {
          "output_type": "stream",
          "name": "stdout",
          "text": [
            "(2, 2)\n",
            "2 es el numero de alumnos\n",
            "2 es el numero de examanes por alumno\n"
          ]
        }
      ],
      "source": [
        "# Quiero que conozcas a los arrays de numpy. Hay un pequenio atributo de numpy que es \"shape\", que usaremos mas tarde. Puedes ver lo que hace?\n",
        "print(alumnos_v.shape)\n",
        "print(f\"{alumnos_v.shape[0]} es el numero de alumnos\")\n",
        "print(f\"{alumnos_v.shape[1]} es el numero de examanes por alumno\")"
      ]
    },
    {
      "cell_type": "code",
      "execution_count": null,
      "metadata": {
        "colab": {
          "base_uri": "https://localhost:8080/"
        },
        "id": "h4shDXk7bsnA",
        "outputId": "496f2766-b79a-4ab4-aebd-fcac4c0cefa0"
      },
      "outputs": [
        {
          "output_type": "stream",
          "name": "stdout",
          "text": [
            "El primer alumno saco 9 en el segundo examen\n",
            "El segundo alumno saco 9 en el segundo examen\n"
          ]
        }
      ],
      "source": [
        "# Como me entero de cuanto saco el primer alumno en el segundo examen, por ejemplo?\n",
        "# Veamoslo en codigo:\n",
        "\n",
        "print(f\"El primer alumno saco {alumnos_v[0,1]} en el segundo examen\")\n",
        "print(f\"El segundo alumno saco {alumnos_v[1,1]} en el segundo examen\")\n",
        "\n",
        "# En general, en matrices de numpy, el primer numero de lo que hay entre corchetes hace referencia a la fila, (que en este caso son los alumnos), y el segundo numero a la columna\n",
        "# que en este caso son los examenes\n",
        "# Acuerdense que python empieza a contar desde el 0 (le fue mal en el jardin de infantes, pobre)"
      ]
    },
    {
      "cell_type": "markdown",
      "metadata": {
        "id": "bN1pCEyGbsnB"
      },
      "source": [
        "Tenemos nuestra base de datos!\n",
        "Ahora armemos nuestro perceptron!\n",
        "Para los mas avanzados, intenten hacer una *clase* perceptron, para el resto, esta bien una *funcion*. Esta *funcion* tomara los datos y simplemente devolvera la suma de ellos.\n",
        "Puedes hacer esto?\n",
        "\n",
        "Hay una forma facil y un poco ... incorrecta de hacerlo. Mas que incorrecta es mas lenta, pero nos conformaremos con eso por ahora. Solo quiero que sepas que existe una forma mejor de hacer lo mismo. Si sabes cual es la forma rapida, implementala. Si no, puedes hacer la suma mediante loops for."
      ]
    },
    {
      "cell_type": "code",
      "source": [
        "print(alumnos_v)"
      ],
      "metadata": {
        "colab": {
          "base_uri": "https://localhost:8080/"
        },
        "id": "onjqFVEGep6c",
        "outputId": "d85e6a62-1d5e-49f1-9825-6e4fad007c11"
      },
      "execution_count": null,
      "outputs": [
        {
          "output_type": "stream",
          "name": "stdout",
          "text": [
            "[[ 2  9]\n",
            " [10  9]]\n"
          ]
        }
      ]
    },
    {
      "cell_type": "code",
      "execution_count": null,
      "metadata": {
        "id": "O0LbWaHUbsnB"
      },
      "outputs": [],
      "source": [
        "def perceptron(datos):\n",
        "    # definimos una lista vacia, primero. En nuestro caso, al final esta contendra nuestra lista de aprobados y desaprobados\n",
        "\n",
        "    respuesta = []\n",
        "    # en este caso, \"dato\" sera alumno, pero dependera de que se le pase como parametro\n",
        "    for dato in datos:\n",
        "        # definimos una sumatoria = 0, y le iremos sumando el valor de cada uno de los features.\n",
        "\n",
        "        sumatoria = 0\n",
        "        # en nuestro caso, \"feature\" puede tomar el valor: examen_1 o examen_2\n",
        "        for feature in dato:\n",
        "\n",
        "            sumatoria += feature\n",
        "        respuesta.append(sumatoria)\n",
        "        # recuerden que en machine learning, trabajamos con numpy arrays!\n",
        "        respuesta_v = np.array(respuesta)\n",
        "\n",
        "    return respuesta_v\n"
      ]
    },
    {
      "cell_type": "markdown",
      "metadata": {
        "id": "EzEqpUgzbsnB"
      },
      "source": [
        "Bien, ya definimos nuestro perceptron, pero por ahora solamente lo definimos. Ahora tenemos que *llamar* a esa funcion con nuestros datos."
      ]
    },
    {
      "cell_type": "code",
      "execution_count": null,
      "metadata": {
        "colab": {
          "base_uri": "https://localhost:8080/"
        },
        "id": "DO6MXnFNbsnB",
        "outputId": "39f5f4f2-9d66-41f7-eee6-5e434c020175"
      },
      "outputs": [
        {
          "output_type": "stream",
          "name": "stdout",
          "text": [
            "[11 19]\n"
          ]
        }
      ],
      "source": [
        "y = perceptron(alumnos_v)\n",
        "print(y)"
      ]
    },
    {
      "cell_type": "markdown",
      "metadata": {
        "id": "yEHGiklIbsnB"
      },
      "source": [
        "Ok, esto nos tira dos numeros, pero no quiero una lista de numeros de 0 a 20, quiero lista de aprobados y desaprobados. Al perceptron le falta algo, que llamaremos la *funcion de activacion*. La *funcion de activacion* es algo que procesa la suma que hicimos dentro del perceptron y lo transforma en otro numero, segun ciertas *reglas*.\n",
        "\n",
        "Hay diferentes *funciones de activacion*, pero recuerden que ahora solo queremos saber si el alumno suma mas de 12 entre sus dos examenes o no. Entonces nuestra funcion de activacion devolvera un uno si la suma es mayor que 12 (que interpretaremos como *aprobado*), y un 0 si es menos que 12 (que interpretaremos como *desaprobado*). Esta *funcion de activacion* es llamada ***funcion escalon***.\n",
        "\n",
        "Ahora, la funcion de activacion es parte del perceptron, asi que la definiremos primero, y luego haremos que la *funcion* que definimos previamente, es decir la funcion *perceptron* ***llame*** a la *funcion* *escalon*."
      ]
    },
    {
      "cell_type": "code",
      "execution_count": null,
      "metadata": {
        "id": "V6ddLDu-bsnB"
      },
      "outputs": [],
      "source": [
        "def funcion_escalon(sumatoria, umbral):\n",
        "    salida = []\n",
        "    for rtta in sumatoria:\n",
        "        if rtta > umbral:\n",
        "            salida.append(1)\n",
        "        else:\n",
        "            salida.append(0)\n",
        "\n",
        "    # transformamos nuestra salida, porque en machine learning trabajamos con numpy arrays\n",
        "    salida = np.array(salida)\n",
        "    return salida"
      ]
    },
    {
      "cell_type": "markdown",
      "metadata": {
        "id": "OrNKDgKxbsnC"
      },
      "source": [
        "Redefinimos nuestra funcion de perceptron"
      ]
    },
    {
      "cell_type": "code",
      "execution_count": null,
      "metadata": {
        "id": "X7XpeqRwbsnE"
      },
      "outputs": [],
      "source": [
        "def perceptron(datos, umbral):\n",
        "    # definimos una lista vacia, primero. En nuestro caso, al final esta contendra nuestra lista de aprobados y desaprobados\n",
        "\n",
        "    respuesta = []\n",
        "    # en este caso, \"dato\" sera alumno, pero dependera de que se le pase como parametro\n",
        "    for dato in datos:\n",
        "        # definimos una sumatoria = 0, y le iremos sumando el valor de cada uno de los features.\n",
        "        sumatoria = 0\n",
        "        # en nuestro caso, \"feature\" puede tomar el valor: examen_1 o examen_2\n",
        "        for feature in dato:\n",
        "            sumatoria += feature\n",
        "        respuesta.append(sumatoria)\n",
        "        # recuerden que en machine learning, trabajamos con numpy arrays!\n",
        "    respuesta_v = np.array(respuesta)\n",
        "\n",
        "    # Ahora llamamos al final a nuestra funcion escalon\n",
        "    respuesta_final = funcion_escalon(respuesta_v, umbral)\n",
        "\n",
        "\n",
        "    return respuesta_final"
      ]
    },
    {
      "cell_type": "code",
      "execution_count": null,
      "metadata": {
        "colab": {
          "base_uri": "https://localhost:8080/"
        },
        "id": "D-KcY3XpbsnF",
        "outputId": "222da874-b885-45e2-88c1-76c024b3f58b"
      },
      "outputs": [
        {
          "output_type": "stream",
          "name": "stdout",
          "text": [
            "Estos son nuestros aprobados y desaprobados: [0 1]\n"
          ]
        }
      ],
      "source": [
        "aprobados_desaprobados = perceptron(alumnos_v, 15)\n",
        "print(f\"Estos son nuestros aprobados y desaprobados: {aprobados_desaprobados}\")\n"
      ]
    },
    {
      "cell_type": "markdown",
      "metadata": {
        "id": "DV89n6VRbsnG"
      },
      "source": [
        "Creanlo o no, acaban de implementar su primer perceptron. Todavia le faltan un par de cosas para que sea completamente funcional y poder incorporarlo a un red neuronal como la gente. Pero esta pequenia funcion ya es un perceptron (o neurona)"
      ]
    },
    {
      "cell_type": "markdown",
      "metadata": {
        "id": "tr2xYXFfbsnG"
      },
      "source": [
        "#### Completando el panorama\n",
        "Que pasa si el examen 2 es mas clave o importante que el examen 1, o al reves? Por que estaria obligado a que valgan lo mismo? Supongamos que el examen 2 cubre mas temas, y que quiero que valga mas. Para eso, vamos a implementar unos *pesos*. Esto quiere decir que simplemente vamos a estar multiplicando cada caracteristica por un numero. Digamos que queremos que el Examen 2 valga el 50% mas que el examen 1. Para eso, podemos multiplicar al examen 1 por 1, y al examen 2 por 1.5.  \n",
        "Pueden modificar la funcion para que haga eso?"
      ]
    },
    {
      "cell_type": "code",
      "execution_count": null,
      "metadata": {
        "colab": {
          "base_uri": "https://localhost:8080/"
        },
        "id": "J6MFx7FpbsnG",
        "outputId": "6fdd466c-f175-44a6-90de-64f46624dbd5"
      },
      "outputs": [
        {
          "output_type": "stream",
          "name": "stdout",
          "text": [
            "[1, 1.5]\n"
          ]
        }
      ],
      "source": [
        "# Primero, definimos nuestros pesos.\n",
        "w = [1,1.5]\n",
        "print(w)"
      ]
    },
    {
      "cell_type": "code",
      "execution_count": null,
      "metadata": {
        "colab": {
          "base_uri": "https://localhost:8080/"
        },
        "id": "5tYzz2WfbsnH",
        "outputId": "ff2e9eeb-f3ee-435a-ed6b-e1ffb249618d"
      },
      "outputs": [
        {
          "output_type": "stream",
          "name": "stdout",
          "text": [
            "[1.  1.5]\n",
            "Noten que a proposito puse los pesos en w en el mismo orden que los features.\n",
            "     Esto nos servira en la proxima funcion\n"
          ]
        }
      ],
      "source": [
        "# Pero en machine learning con que trabajamos? Todos juntos: numpy array!\n",
        "w = np.array(w)\n",
        "print(w)\n",
        "print(\"Noten que a proposito puse los pesos en w en el mismo orden que los features.\\n \\\n",
        "    Esto nos servira en la proxima funcion\")"
      ]
    },
    {
      "cell_type": "code",
      "execution_count": null,
      "metadata": {
        "id": "dlVOweu9bsnH"
      },
      "outputs": [],
      "source": [
        "# Ahora modifiquemos la funcion anterior (copien y peguen, y le ponemos un nuevo nombre, no le digan a nadie ...)\n",
        "def perceptron_examen(datos, w, umbral):\n",
        "    respuesta = []\n",
        "\n",
        "\n",
        "    # en el proximo loop for es donde esta la diferencia clave.\n",
        "    # Podemos usar la palabra clave \"range\", para acceder a ambas listas por orden\n",
        "    for i in range(0,datos.shape[0]): # i correspondera al alumno\n",
        "        sumatoria = 0\n",
        "        for j in range(0, datos.shape[1]): # j correspondera al examen\n",
        "\n",
        "            sumatoria += datos[i, j]*w[j]\n",
        "\n",
        "        respuesta.append(sumatoria)\n",
        "    respuesta_v = np.array(respuesta)\n",
        "    respuesta_ex = funcion_escalon(respuesta_v, umbral)\n",
        "    return respuesta_ex"
      ]
    },
    {
      "cell_type": "code",
      "execution_count": null,
      "metadata": {
        "colab": {
          "base_uri": "https://localhost:8080/"
        },
        "id": "E3IJNcI4bsnI",
        "outputId": "f072731a-7fc8-4df7-d9fa-1d9604ec105e"
      },
      "outputs": [
        {
          "output_type": "stream",
          "name": "stdout",
          "text": [
            "La lista de aprobados y desaprobados es [0 1]\n",
            "Gracias a los pesos, todos aprobaron! \n"
          ]
        }
      ],
      "source": [
        "aprobados_desaprobados = perceptron_w(alumnos_v, w, 15)\n",
        "print(f\"La lista de aprobados y desaprobados es {aprobados_desaprobados}\")\n",
        "print(f\"Gracias a los pesos, todos aprobaron! \")"
      ]
    },
    {
      "cell_type": "code",
      "source": [
        "from google.colab import drive\n",
        "drive.mount('/content/drive')"
      ],
      "metadata": {
        "id": "An7gI6Dbccwb"
      },
      "execution_count": null,
      "outputs": []
    },
    {
      "cell_type": "markdown",
      "metadata": {
        "id": "rQ_AvbyDbsnI"
      },
      "source": [
        "#### Facturas\n",
        "creo que a ese perceptron le falta algo. Esos alumnos le llevaron facturas al profesor? Llevarle facturas al profesor es muy importante. Nadie puede aprobar sin llevarle facturas al profesor. Por lo tanto, necesitaremos ***otro*** perceptron para manejar este dato de la manera mas adecuada.\n",
        "![Perceptron con facturas](https://drive.google.com/uc?export=view&id=1aIiyftevn4rLvp_kqU512JOzpVQgc8Cx)\n"
      ]
    },
    {
      "cell_type": "code",
      "source": [
        "def perceptron_examen(datos, w, umbral):\n",
        "    respuesta = []\n",
        "\n",
        "\n",
        "    # en el proximo loop for es donde esta la diferencia clave.\n",
        "    # Podemos usar la palabra clave \"range\", para acceder a ambas listas por orden\n",
        "    for i in range(0,datos.shape[0]): # i correspondera al alumno\n",
        "        sumatoria = 0\n",
        "        for j in range(0, datos.shape[1]): # j correspondera al examen\n",
        "\n",
        "            sumatoria += datos[i, j]*w[j]\n",
        "\n",
        "        respuesta.append(sumatoria)\n",
        "    respuesta_v = np.array(respuesta)\n",
        "    respuesta_ex = funcion_escalon(respuesta_v, umbral)\n",
        "    return respuesta_ex"
      ],
      "metadata": {
        "id": "AFaerzqMkSHF"
      },
      "execution_count": null,
      "outputs": []
    },
    {
      "cell_type": "code",
      "source": [
        "def perceptron_facturas(datos, w_facturas, umbral_facturas):\n",
        "  respuesta = []\n",
        "  for i in range(0, datos.shape[0]): # i es el alumno\n",
        "      sumatoria = 0\n",
        "      for j in range(0, datos.shape[1]):\n",
        "\n",
        "            sumatoria += datos[i, j]*w_facturas[j]\n",
        "\n",
        "      respuesta.append(sumatoria)\n",
        "  respuesta_v = np.array(respuesta)\n",
        "  respuesta_fact = funcion_escalon(respuesta_v, umbral_facturas)\n",
        "  return  respuesta_fact"
      ],
      "metadata": {
        "id": "ESj3H_unzsaS"
      },
      "execution_count": null,
      "outputs": []
    },
    {
      "cell_type": "code",
      "source": [
        "def preceptron_salida(salida_examen, salida_facturas, w_salida, umbral_salida):\n",
        "  suma_ponderada = salida_examen*w_salida[0] + salida_facturas*w_salida[1]\n",
        "  nota = funcion_escalon(suma_ponderada, umbral_salida)\n",
        "  return nota"
      ],
      "metadata": {
        "id": "x2XpTVDkT0U5"
      },
      "execution_count": null,
      "outputs": []
    },
    {
      "cell_type": "markdown",
      "source": [
        "Cargo los datos"
      ],
      "metadata": {
        "id": "qx4sk5N2XTIT"
      }
    },
    {
      "cell_type": "code",
      "source": [
        "import numpy as np\n",
        "datos = np.array([[3, 8, 1], [8, 9, 1]])\n",
        "w =  np.array([1, 1.5, 0]) # examenes\n",
        "w_facturas = np.array([0, 0, 1.5]) #puse 1.5  en el w o se puede modificar la funcion escalon con un >=\n",
        "w_salida = np.array([1, 101])\n",
        "umbral = 15 #examenes\n",
        "umbral_facturas = 1\n",
        "umbral_salida = 100\n",
        "\n",
        "\n"
      ],
      "metadata": {
        "id": "WYTsz0_RVbek"
      },
      "execution_count": null,
      "outputs": []
    },
    {
      "cell_type": "code",
      "source": [
        "respuesta_examen = perceptron_examen(datos, w, umbral) #guarda la respuesta del percept examen\n",
        "print(respuesta_examen)"
      ],
      "metadata": {
        "colab": {
          "base_uri": "https://localhost:8080/"
        },
        "id": "eqY5-GhccY-T",
        "outputId": "da6a49c7-1469-4581-8a82-6b94e3b77046"
      },
      "execution_count": null,
      "outputs": [
        {
          "output_type": "stream",
          "name": "stdout",
          "text": [
            "[0 1]\n"
          ]
        }
      ]
    },
    {
      "cell_type": "code",
      "source": [
        "\n",
        "respuesta_facturas = perceptron_facturas(datos, w_facturas, umbral_facturas)\n",
        "print(respuesta_facturas)"
      ],
      "metadata": {
        "colab": {
          "base_uri": "https://localhost:8080/"
        },
        "id": "ni3axkgOce8M",
        "outputId": "19b7b379-3831-45e1-d65a-98e527c45aa5"
      },
      "execution_count": null,
      "outputs": [
        {
          "output_type": "stream",
          "name": "stdout",
          "text": [
            "[1 1]\n"
          ]
        }
      ]
    },
    {
      "cell_type": "code",
      "source": [
        "\n",
        "aprobado_o_no = preceptron_salida(respuesta_examen, respuesta_facturas, w_salida, umbral_salida)\n",
        "print(aprobado_o_no)"
      ],
      "metadata": {
        "colab": {
          "base_uri": "https://localhost:8080/"
        },
        "id": "JOPlZFWacmcM",
        "outputId": "373b626b-18b4-4151-fc39-40a1d336db41"
      },
      "execution_count": null,
      "outputs": [
        {
          "output_type": "stream",
          "name": "stdout",
          "text": [
            "[1 1]\n"
          ]
        }
      ]
    }
  ],
  "metadata": {
    "kernelspec": {
      "display_name": "base",
      "language": "python",
      "name": "python3"
    },
    "language_info": {
      "codemirror_mode": {
        "name": "ipython",
        "version": 3
      },
      "file_extension": ".py",
      "mimetype": "text/x-python",
      "name": "python",
      "nbconvert_exporter": "python",
      "pygments_lexer": "ipython3",
      "version": "3.9.7"
    },
    "orig_nbformat": 4,
    "colab": {
      "provenance": [],
      "include_colab_link": true
    }
  },
  "nbformat": 4,
  "nbformat_minor": 0
}